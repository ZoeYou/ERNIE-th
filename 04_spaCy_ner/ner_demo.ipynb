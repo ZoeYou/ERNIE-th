{
 "cells": [
  {
   "cell_type": "markdown",
   "metadata": {
    "toc": true
   },
   "source": [
    "<h1>Table of Contents<span class=\"tocSkip\"></span></h1>\n",
    "<div class=\"toc\"><ul class=\"toc-item\"></ul></div>"
   ]
  },
  {
   "cell_type": "code",
   "execution_count": 1,
   "metadata": {},
   "outputs": [],
   "source": [
    "import spacy\n",
    "import wikipedia\n",
    "import pandas as pd\n",
    "from spacy import displacy\n",
    "\n",
    "import urllib \n",
    "import time\n",
    "import requests \n",
    "from bs4 import BeautifulSoup"
   ]
  },
  {
   "cell_type": "code",
   "execution_count": 2,
   "metadata": {},
   "outputs": [],
   "source": [
    "title_file = '../01_make_matching_list/page_titles.txt'\n",
    "\n",
    "df_page_title = pd.read_csv(title_file, delimiter='\\t',header=None)"
   ]
  },
  {
   "cell_type": "code",
   "execution_count": 3,
   "metadata": {},
   "outputs": [],
   "source": [
    "DICT_PAGE_TITLE = dict(zip(df_page_title[0],df_page_title[1]))"
   ]
  },
  {
   "cell_type": "code",
   "execution_count": 4,
   "metadata": {},
   "outputs": [],
   "source": [
    "def find_wiki_title(term):\n",
    "    title = wikipedia.search(term)\n",
    "    if title != []:\n",
    "        return title[0]\n",
    "\n",
    "def text_to_wiki(text, nlp): # gives the html under BeatifulSoup format\n",
    "    doc = nlp(text)\n",
    "\n",
    "    html = displacy.render(doc, style=\"ent\", options={\"ents\": [\"TERM\"]}, jupyter=False, page=True)\n",
    "    soup = BeautifulSoup(html)\n",
    "    marks =  soup.find_all('mark')\n",
    "    \n",
    "    for mark in marks :\n",
    "        try:\n",
    "            entity = mark.get_text(strip=True,separator=', ').split(', ')[0] # get the entity annotated\n",
    "            url = f'https://en.wikipedia.org/wiki/{\"_\".join(DICT_PAGE_TITLE[entity].split())}' \n",
    "        except KeyError:\n",
    "            wiki_title = find_wiki_title(entity)   \n",
    "            if wiki_title:\n",
    "                url = f'https://en.wikipedia.org/wiki/{\"_\".join(wiki_title.split())}' \n",
    "                DICT_PAGE_TITLE.update({entity:wiki_title})\n",
    "                    \n",
    "        link = soup.new_tag('a', href=url) # create the html tag for link       \n",
    "        mark.wrap(link) #add html tag <a> (the one to make links) to around our annotated word\n",
    "    return soup"
   ]
  },
  {
   "cell_type": "code",
   "execution_count": 5,
   "metadata": {},
   "outputs": [],
   "source": [
    "nlp = spacy.load(r\"./output/G06F_2019/model-best/\") #load the best model\n",
    "\n",
    "with open('../G06T0007254000.txt') as f:\n",
    "    patents = f.read()\n",
    "\n",
    "\n",
    "doc = nlp(patents) # input sample text"
   ]
  },
  {
   "cell_type": "code",
   "execution_count": 6,
   "metadata": {},
   "outputs": [
    {
     "data": {
      "text/plain": [
       "809335"
      ]
     },
     "execution_count": 6,
     "metadata": {},
     "output_type": "execute_result"
    }
   ],
   "source": [
    "open('./demo.html', 'w', encoding=\"utf-8\").write(str(text_to_wiki(patents,nlp))) #create file with html data"
   ]
  },
  {
   "cell_type": "code",
   "execution_count": null,
   "metadata": {},
   "outputs": [],
   "source": []
  },
  {
   "cell_type": "code",
   "execution_count": 15,
   "metadata": {},
   "outputs": [
    {
     "name": "stdout",
     "output_type": "stream",
     "text": [
      "disambiguation\n"
     ]
    },
    {
     "name": "stderr",
     "output_type": "stream",
     "text": [
      "/Users/zuoyou/opt/anaconda3/lib/python3.7/site-packages/wikipedia/wikipedia.py:389: UserWarning: No parser was explicitly specified, so I'm using the best available HTML parser for this system (\"lxml\"). This usually isn't a problem, but if you run this code on another system, or in a different virtual environment, it may use a different parser and behave differently.\n",
      "\n",
      "The code that caused this warning is on line 389 of the file /Users/zuoyou/opt/anaconda3/lib/python3.7/site-packages/wikipedia/wikipedia.py. To get rid of this warning, pass the additional argument 'features=\"lxml\"' to the BeautifulSoup constructor.\n",
      "\n",
      "  lis = BeautifulSoup(html).find_all('li')\n"
     ]
    }
   ],
   "source": [
    "try:\n",
    "    print(wikipedia.summary('SVM'))\n",
    "except wikipedia.exceptions.DisambiguationError:\n",
    "    print(\"disambiguation\")"
   ]
  },
  {
   "cell_type": "code",
   "execution_count": null,
   "metadata": {},
   "outputs": [],
   "source": []
  }
 ],
 "metadata": {
  "kernelspec": {
   "display_name": "Python 3.7.4 64-bit ('base')",
   "language": "python",
   "name": "python37464bitbase5e3e771f486c4f06aa164a453e60de03"
  },
  "language_info": {
   "codemirror_mode": {
    "name": "ipython",
    "version": 3
   },
   "file_extension": ".py",
   "mimetype": "text/x-python",
   "name": "python",
   "nbconvert_exporter": "python",
   "pygments_lexer": "ipython3",
   "version": "3.7.4"
  },
  "toc": {
   "base_numbering": 1,
   "nav_menu": {},
   "number_sections": true,
   "sideBar": true,
   "skip_h1_title": false,
   "title_cell": "Table of Contents",
   "title_sidebar": "Contents",
   "toc_cell": true,
   "toc_position": {},
   "toc_section_display": true,
   "toc_window_display": false
  }
 },
 "nbformat": 4,
 "nbformat_minor": 2
}
