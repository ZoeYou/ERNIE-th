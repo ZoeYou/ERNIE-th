{
 "cells": [
  {
   "cell_type": "markdown",
   "metadata": {
    "toc": true
   },
   "source": [
    "<h1>Table of Contents<span class=\"tocSkip\"></span></h1>\n",
    "<div class=\"toc\"><ul class=\"toc-item\"></ul></div>"
   ]
  },
  {
   "cell_type": "code",
   "execution_count": 1,
   "metadata": {},
   "outputs": [],
   "source": [
    "import spacy\n",
    "import wikipedia\n",
    "import pandas as pd\n",
    "from spacy import displacy\n",
    "\n",
    "import urllib \n",
    "import time\n",
    "import json\n",
    "import requests \n",
    "from bs4 import BeautifulSoup"
   ]
  },
  {
   "cell_type": "code",
   "execution_count": 2,
   "metadata": {},
   "outputs": [],
   "source": [
    "# read json file of wikipedia page title and summary\n",
    "\n",
    "with open('../01_make_matching_list/title_summary.json', 'r') as f:\n",
    "    DICT_PAGE_TITLE = json.load(f)"
   ]
  },
  {
   "cell_type": "code",
   "execution_count": 3,
   "metadata": {},
   "outputs": [],
   "source": [
    "import warnings\n",
    "warnings.filterwarnings('ignore')\n",
    "\n",
    "def find_wiki_title(term):\n",
    "    title = wikipedia.search(term)\n",
    "    if title != []:\n",
    "        return title[0]\n",
    "\n",
    "    \n",
    "def find_wiki_summary(term):\n",
    "    try:\n",
    "        return wikipedia.summary(term)\n",
    "    # if it is a ambiguous term, the function will return None as value of summary\n",
    "    except wikipedia.exceptions.WikipediaException:\n",
    "        return None\n",
    "\n",
    "\n",
    "def text_to_wiki(text, nlp): # gives the html under BeatifulSoup format\n",
    "    doc = nlp(text)\n",
    "\n",
    "    html = displacy.render(doc, style=\"ent\", options={\"ents\": [\"TERM\"]}, jupyter=False, page=True)\n",
    "    soup = BeautifulSoup(html)\n",
    "    marks =  soup.find_all('mark')\n",
    "    \n",
    "    for mark in marks :\n",
    "        try:\n",
    "            term = mark.get_text(strip=True,separator=', ').split(', ')[0] # get the term annotated\n",
    "            \n",
    "            wiki_info = DICT_PAGE_TITLE[term] # get wikipedia pagetitle and summary from json file\n",
    "            url = f'https://en.wikipedia.org/wiki/{\"_\".join(wiki_info[\"redirect\"].split())}' \n",
    "            summary = wiki_info['summary']\n",
    "            \n",
    "        except KeyError:\n",
    "            wiki_title = find_wiki_title(term)  \n",
    "            \n",
    "            if wiki_title:\n",
    "                url = f'https://en.wikipedia.org/wiki/{\"_\".join(wiki_title.split())}' \n",
    "                wiki_summary = find_wiki_summary(wiki_title)\n",
    "                DICT_PAGE_TITLE.update({term:{'title':wiki_title, 'summary': wiki_summary}})\n",
    "                    \n",
    "        link = soup.new_tag('a', href=url) # create the html tag for link       \n",
    "        mark.wrap(link) #add html tag <a> (the one to make links) to around our annotated word\n",
    "    return soup"
   ]
  },
  {
   "cell_type": "code",
   "execution_count": 6,
   "metadata": {},
   "outputs": [],
   "source": [
    "nlp = spacy.load(r\"./output/G06F_2019/model-best/\") #load the best model\n",
    "\n",
    "with open('../G06T0007254000.txt', encoding = 'utf-8') as f:\n",
    "    patents = f.read()\n",
    "\n",
    "\n",
    "doc = nlp(patents) # input sample text"
   ]
  },
  {
   "cell_type": "code",
   "execution_count": 7,
   "metadata": {},
   "outputs": [
    {
     "name": "stdout",
     "output_type": "stream",
     "text": [
      "CPU times: user 5 µs, sys: 8 µs, total: 13 µs\n",
      "Wall time: 44.8 µs\n"
     ]
    },
    {
     "data": {
      "text/plain": [
       "1659989"
      ]
     },
     "execution_count": 7,
     "metadata": {},
     "output_type": "execute_result"
    }
   ],
   "source": [
    "%time\n",
    "open('./demo.html', 'w', encoding=\"utf-8\").write(str(text_to_wiki(patents,nlp))) #create file with html data"
   ]
  },
  {
   "cell_type": "code",
   "execution_count": 8,
   "metadata": {},
   "outputs": [],
   "source": [
    "# save new json \n",
    "with open('../01_make_matching_list/title_summary.json', \"w\") as outfile: \n",
    "    json.dump(DICT_PAGE_TITLE, outfile, indent = 4)"
   ]
  },
  {
   "cell_type": "code",
   "execution_count": null,
   "metadata": {},
   "outputs": [],
   "source": []
  }
 ],
 "metadata": {
  "kernelspec": {
   "display_name": "Python 3.7.4 64-bit ('base')",
   "language": "python",
   "name": "python37464bitbase5e3e771f486c4f06aa164a453e60de03"
  },
  "language_info": {
   "codemirror_mode": {
    "name": "ipython",
    "version": 3
   },
   "file_extension": ".py",
   "mimetype": "text/x-python",
   "name": "python",
   "nbconvert_exporter": "python",
   "pygments_lexer": "ipython3",
   "version": "3.7.4"
  },
  "toc": {
   "base_numbering": 1,
   "nav_menu": {},
   "number_sections": true,
   "sideBar": true,
   "skip_h1_title": false,
   "title_cell": "Table of Contents",
   "title_sidebar": "Contents",
   "toc_cell": true,
   "toc_position": {},
   "toc_section_display": true,
   "toc_window_display": false
  }
 },
 "nbformat": 4,
 "nbformat_minor": 2
}
