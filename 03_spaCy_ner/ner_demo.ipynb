{
 "cells": [
  {
   "cell_type": "markdown",
   "metadata": {
    "toc": true
   },
   "source": [
    "<h1>Table of Contents<span class=\"tocSkip\"></span></h1>\n",
    "<div class=\"toc\"><ul class=\"toc-item\"></ul></div>"
   ]
  },
  {
   "cell_type": "code",
   "execution_count": 1,
   "metadata": {},
   "outputs": [],
   "source": [
    "import spacy\n",
    "import wikipedia\n",
    "import pandas as pd\n",
    "from spacy import displacy\n",
    "\n",
    "import urllib \n",
    "import time\n",
    "import json\n",
    "import requests \n",
    "from bs4 import BeautifulSoup"
   ]
  },
  {
   "cell_type": "code",
   "execution_count": 2,
   "metadata": {},
   "outputs": [],
   "source": [
    "# read json file of wikipedia page title and summary\n",
    "with open('../01_make_matching_list/title_summary.json', 'r') as f:\n",
    "    DICT_PAGE_TITLE = json.load(f)"
   ]
  },
  {
   "cell_type": "code",
   "execution_count": 12,
   "metadata": {},
   "outputs": [],
   "source": [
    "from tqdm import tqdm\n",
    "import warnings\n",
    "warnings.filterwarnings('ignore')\n",
    "\n",
    "def find_wiki_title(term):\n",
    "    title = wikipedia.search(term)\n",
    "    if title:\n",
    "        return title[0]\n",
    "\n",
    "    \n",
    "def find_wiki_summary(term):\n",
    "    try:\n",
    "        return wikipedia.summary(term)\n",
    "    # if it is a ambiguous term, the function will return None as value of summary\n",
    "    except wikipedia.exceptions.WikipediaException:\n",
    "        return None\n",
    "\n",
    "\n",
    "# def text_to_html(text, nlp): # gives the html under BeatifulSoup format\n",
    "#     doc = nlp(text)\n",
    "\n",
    "#     html = displacy.render(doc, style=\"ent\", options={\"ents\": [\"TERM\"]}, jupyter=False, page=True)\n",
    "#     soup = BeautifulSoup(html)\n",
    "#     marks =  soup.find_all('mark')\n",
    "    \n",
    "#     for mark in tqdm(marks):\n",
    "#         try:\n",
    "#             term = mark.get_text(strip=True,separator=', ').split(', ')[0] # get the term annotated\n",
    "            \n",
    "#             wiki_info = DICT_PAGE_TITLE[term] # get wikipedia pagetitle and summary from json file\n",
    "#             url = f'https://en.wikipedia.org/wiki/{\"_\".join(wiki_info[\"redirect\"].split())}' \n",
    "#             summary = wiki_info['summary']\n",
    "            \n",
    "#         except KeyError:\n",
    "#             wiki_title = find_wiki_title(term)  \n",
    "            \n",
    "#             if wiki_title:\n",
    "#                 url = f'https://en.wikipedia.org/wiki/{\"_\".join(wiki_title.split())}' \n",
    "#                 wiki_summary = find_wiki_summary(wiki_title)\n",
    "#                 DICT_PAGE_TITLE.update({term:{'title':wiki_title, 'summary': wiki_summary}})\n",
    "                    \n",
    "#         link = soup.new_tag('a', href=url) # create the html tag for link       \n",
    "#         mark.wrap(link) #add html tag <a> (the one to make links) to around our annotated word\n",
    "#     return soup\n",
    "\n",
    "\n",
    "def text_to_json(text, nlp): # gives the ner results in json format\n",
    "    from collections import defaultdict     \n",
    "\n",
    "    dict_position = defaultdict(list)\n",
    "    \n",
    "    doc = nlp(text)\n",
    "    for ent in doc.ents:\n",
    "        dict_position[ent.text].append((ent.start_char, ent.end_char))\n",
    "    dict_position = dict(dict_position)\n",
    "    \n",
    "    dict_res = {}\n",
    "    for term, pos_l in tqdm(dict_position.items()):\n",
    "        try:\n",
    "            wiki_info = DICT_PAGE_TITLE[term] # get wikipedia pagetitle and summary from json file\n",
    "            url = f'https://en.wikipedia.org/wiki/{\"_\".join(wiki_info[\"redirect\"].split())}' \n",
    "            wiki_summary = wiki_info['summary'] \n",
    "            if wiki_summary is None:\n",
    "                wiki_summary = find_wiki_summary(wiki_title)\n",
    "                DICT_PAGE_TITLE[term]['summary'] = wiki_summary\n",
    "\n",
    "        except KeyError:\n",
    "            wiki_title = find_wiki_title(term)  \n",
    "\n",
    "            if wiki_title:\n",
    "                url = f'https://en.wikipedia.org/wiki/{\"_\".join(wiki_title.split())}' \n",
    "                wiki_summary = find_wiki_summary(wiki_title)\n",
    "                DICT_PAGE_TITLE.update({term:{'title':wiki_title, 'summary': wiki_summary}})\n",
    "            else:\n",
    "                url = f'https://www.wikipedia.org/'\n",
    "                wiki_summary = ''\n",
    "\n",
    "        dict_res.update({term:{'position': pos_l,\n",
    "                                'wikilink': url,\n",
    "                                'summary': wiki_summary}})\n",
    "    return dict_res    "
   ]
  },
  {
   "cell_type": "code",
   "execution_count": 4,
   "metadata": {},
   "outputs": [],
   "source": [
    "nlp = spacy.load(r\"./output/G06T_2015/model-best/\") #load the best model\n",
    "\n",
    "with open('../data/G06T0003000000.txt', encoding = 'utf-8') as f: # 24 patents inside\n",
    "    patents = f.read().split('\\n\\n\\n')"
   ]
  },
  {
   "cell_type": "code",
   "execution_count": 5,
   "metadata": {},
   "outputs": [],
   "source": [
    "# open('./demo.html', 'w', encoding=\"utf-8\").write(str(text_to_html(patents,nlp))) #create file with html data"
   ]
  },
  {
   "cell_type": "code",
   "execution_count": 13,
   "metadata": {},
   "outputs": [
    {
     "name": "stderr",
     "output_type": "stream",
     "text": [
      "100%|██████████| 80/80 [01:53<00:00,  1.42s/it]\n"
     ]
    }
   ],
   "source": [
    "# save new dictionary\n",
    "with open('demo.json', \"w\") as f: \n",
    "    json.dump(text_to_json(patents[0], nlp), f, indent = 4)"
   ]
  },
  {
   "cell_type": "code",
   "execution_count": 8,
   "metadata": {},
   "outputs": [],
   "source": [
    "# save new json \n",
    "with open('../01_make_matching_list/title_summary.json', \"w\") as f: \n",
    "    json.dump(DICT_PAGE_TITLE, f, indent = 4)"
   ]
  },
  {
   "cell_type": "code",
   "execution_count": null,
   "metadata": {},
   "outputs": [],
   "source": []
  }
 ],
 "metadata": {
  "kernelspec": {
   "display_name": "Python 3.7.4 64-bit ('base')",
   "language": "python",
   "name": "python37464bitbase5e3e771f486c4f06aa164a453e60de03"
  },
  "language_info": {
   "codemirror_mode": {
    "name": "ipython",
    "version": 3
   },
   "file_extension": ".py",
   "mimetype": "text/x-python",
   "name": "python",
   "nbconvert_exporter": "python",
   "pygments_lexer": "ipython3",
   "version": "3.7.4"
  },
  "toc": {
   "base_numbering": 1,
   "nav_menu": {},
   "number_sections": true,
   "sideBar": true,
   "skip_h1_title": false,
   "title_cell": "Table of Contents",
   "title_sidebar": "Contents",
   "toc_cell": true,
   "toc_position": {},
   "toc_section_display": true,
   "toc_window_display": false
  }
 },
 "nbformat": 4,
 "nbformat_minor": 2
}
