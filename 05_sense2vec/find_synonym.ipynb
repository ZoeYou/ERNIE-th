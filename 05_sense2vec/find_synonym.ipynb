{
 "cells": [
  {
   "cell_type": "markdown",
   "metadata": {
    "toc": true
   },
   "source": [
    "<h1>Table of Contents<span class=\"tocSkip\"></span></h1>\n",
    "<div class=\"toc\"><ul class=\"toc-item\"></ul></div>"
   ]
  },
  {
   "cell_type": "code",
   "execution_count": 1,
   "metadata": {},
   "outputs": [
    {
     "name": "stdout",
     "output_type": "stream",
     "text": [
      "\u001b[2K\u001b[38;5;2m✔ Loaded compatibility table\u001b[0m\n",
      "\u001b[1m\n",
      "================= Installed pipeline packages (spaCy v3.0.6) =================\u001b[0m\n",
      "\u001b[38;5;4mℹ spaCy installation:\n",
      "/Users/zuoyou/opt/anaconda3/lib/python3.7/site-packages/spacy\u001b[0m\n",
      "\n",
      "NAME              SPACY            VERSION                            \n",
      "en_core_web_lg    >=3.0.0,<3.1.0   \u001b[38;5;2m3.0.0\u001b[0m   \u001b[38;5;2m✔\u001b[0m\n",
      "en_core_web_md    >=3.0.0,<3.1.0   \u001b[38;5;2m3.0.0\u001b[0m   \u001b[38;5;2m✔\u001b[0m\n",
      "en_core_web_trf   >=3.0.0,<3.1.0   \u001b[38;5;2m3.0.0\u001b[0m   \u001b[38;5;2m✔\u001b[0m\n",
      "\n"
     ]
    }
   ],
   "source": [
    "!python -m spacy validate"
   ]
  },
  {
   "cell_type": "code",
   "execution_count": 3,
   "metadata": {},
   "outputs": [
    {
     "data": {
      "text/plain": [
       "<sense2vec.component.Sense2VecComponent at 0x7fb54239d390>"
      ]
     },
     "execution_count": 3,
     "metadata": {},
     "output_type": "execute_result"
    }
   ],
   "source": [
    "import spacy \n",
    "\n",
    "ner = spacy.load(\"../03_spaCy_ner/output/G06T_2015/model-best/\")\n",
    "nlp = spacy.load('en_core_web_md')\n",
    "\n",
    "s2v = nlp.add_pipe(\"sense2vec\")\n",
    "s2v.from_disk(\"./s2v_old/\")"
   ]
  },
  {
   "cell_type": "code",
   "execution_count": 4,
   "metadata": {},
   "outputs": [],
   "source": [
    "import numpy as np \n",
    "\n",
    "def most_similar(word, topn=5):\n",
    "    queries = np.asarray([word.vector])   \n",
    "    keys, best_rows, scores = nlp.vocab.vectors.most_similar(queries, n=topn)\n",
    "    return [nlp.vocab.strings[key] for key in keys[0]]\n",
    "\n",
    "\n",
    "def find_synonym(term, nlp, n=10): \n",
    "    term = nlp(term)[:]\n",
    "    if term._.in_s2v:\n",
    "        return term._.s2v_most_similar(n=n)\n",
    "    else:\n",
    "        return most_similar(term, topn=n)"
   ]
  },
  {
   "cell_type": "code",
   "execution_count": 16,
   "metadata": {},
   "outputs": [
    {
     "data": {
      "text/plain": [
       "['Tlt',\n",
       " 'GTA',\n",
       " 'Igi',\n",
       " 'Graw',\n",
       " 'rabel',\n",
       " '64-Player',\n",
       " 'INTEC',\n",
       " 'thps3',\n",
       " 'porcelain-enameled',\n",
       " 'CREDIT-GRANTING']"
      ]
     },
     "execution_count": 16,
     "metadata": {},
     "output_type": "execute_result"
    }
   ],
   "source": [
    "find_synonym(\"SVM\", n=10, nlp=nlp)"
   ]
  },
  {
   "cell_type": "code",
   "execution_count": 20,
   "metadata": {},
   "outputs": [
    {
     "data": {
      "text/plain": [
       "['ANALYSES',\n",
       " 'CLIMATOLOGICAL',\n",
       " 'ANALYTICAL',\n",
       " 'five-step',\n",
       " 'EVALUATIONS',\n",
       " 'Self-Evaluation',\n",
       " 'DISSECT',\n",
       " 'Assaying',\n",
       " 'COMPARATIVE',\n",
       " 'studies']"
      ]
     },
     "execution_count": 20,
     "metadata": {},
     "output_type": "execute_result"
    }
   ],
   "source": [
    "find_synonym(\"patternxxx analysis\", n=10, nlp=nlp)"
   ]
  },
  {
   "cell_type": "code",
   "execution_count": 17,
   "metadata": {},
   "outputs": [
    {
     "data": {
      "text/plain": [
       "[(('data science', 'NOUN'), 0.9005),\n",
       " (('natural language processing', 'NOUN'), 0.8987),\n",
       " (('computer vision', 'NOUN'), 0.8978),\n",
       " (('deep learning', 'NOUN'), 0.8963),\n",
       " (('data analysis', 'NOUN'), 0.8924),\n",
       " (('Machine learning', 'NOUN'), 0.8842),\n",
       " (('neural nets', 'NOUN'), 0.8755),\n",
       " (('Machine Learning', 'ORG'), 0.8642),\n",
       " (('bioinformatics', 'NOUN'), 0.8624),\n",
       " (('neural networks', 'NOUN'), 0.858)]"
      ]
     },
     "execution_count": 17,
     "metadata": {},
     "output_type": "execute_result"
    }
   ],
   "source": [
    "find_synonym(\"machine learning\", n=10, nlp=nlp)"
   ]
  },
  {
   "cell_type": "code",
   "execution_count": 18,
   "metadata": {},
   "outputs": [
    {
     "data": {
      "text/plain": [
       "[(('machine learning', 'NOUN'), 0.8978),\n",
       " (('deep learning', 'NOUN'), 0.8874),\n",
       " (('natural language processing', 'NOUN'), 0.8636),\n",
       " (('neural nets', 'NOUN'), 0.8481),\n",
       " (('machine vision', 'NOUN'), 0.8431),\n",
       " (('image recognition', 'NOUN'), 0.8342),\n",
       " (('Machine learning', 'NOUN'), 0.8228),\n",
       " (('Machine Learning', 'ORG'), 0.8143),\n",
       " (('signal processing', 'NOUN'), 0.8127),\n",
       " (('computer graphics', 'NOUN'), 0.8097)]"
      ]
     },
     "execution_count": 18,
     "metadata": {},
     "output_type": "execute_result"
    }
   ],
   "source": [
    "find_synonym(\"computer vision\", n=10, nlp=nlp)"
   ]
  },
  {
   "cell_type": "code",
   "execution_count": 15,
   "metadata": {},
   "outputs": [
    {
     "data": {
      "text/plain": [
       "[(('single pixel', 'NOUN'), 0.8974),\n",
       " (('4 pixels', 'QUANTITY'), 0.8569),\n",
       " (('2 pixels', 'QUANTITY'), 0.8238),\n",
       " (('resulting image', 'NOUN'), 0.8122),\n",
       " (('two pixels', 'QUANTITY'), 0.8078),\n",
       " (('pixel', 'VERB'), 0.8053),\n",
       " (('pixel resolution', 'NOUN'), 0.8026),\n",
       " (('polygons', 'NOUN'), 0.8021),\n",
       " (('individual pixels', 'NOUN'), 0.798),\n",
       " (('pixel size', 'NOUN'), 0.7972)]"
      ]
     },
     "execution_count": 15,
     "metadata": {},
     "output_type": "execute_result"
    }
   ],
   "source": [
    "find_synonym(\"pixel\", n=10, nlp=nlp)"
   ]
  },
  {
   "cell_type": "code",
   "execution_count": 13,
   "metadata": {},
   "outputs": [
    {
     "data": {
      "text/plain": [
       "[(('particular method', 'NOUN'), 0.8683),\n",
       " (('different method', 'NOUN'), 0.8621),\n",
       " (('specific method', 'NOUN'), 0.8488),\n",
       " (('methods', 'NOUN'), 0.8482),\n",
       " (('other method', 'NOUN'), 0.8472),\n",
       " (('second method', 'NOUN'), 0.8419),\n",
       " (('other methods', 'NOUN'), 0.8312),\n",
       " (('multiple methods', 'NOUN'), 0.8286),\n",
       " (('first method', 'NOUN'), 0.8286),\n",
       " (('better method', 'NOUN'), 0.8154)]"
      ]
     },
     "execution_count": 13,
     "metadata": {},
     "output_type": "execute_result"
    }
   ],
   "source": [
    "find_synonym(\"method\", n=10, nlp=nlp)"
   ]
  },
  {
   "cell_type": "code",
   "execution_count": 7,
   "metadata": {},
   "outputs": [
    {
     "name": "stdout",
     "output_type": "stream",
     "text": [
      "[(('data science', 'NOUN'), 0.9005), (('natural language processing', 'NOUN'), 0.8987), (('computer vision', 'NOUN'), 0.8978), (('deep learning', 'NOUN'), 0.8963), (('data analysis', 'NOUN'), 0.8924), (('Machine learning', 'NOUN'), 0.8842), (('neural nets', 'NOUN'), 0.8755), (('Machine Learning', 'ORG'), 0.8642), (('bioinformatics', 'NOUN'), 0.8624), (('neural networks', 'NOUN'), 0.858)]\n"
     ]
    }
   ],
   "source": [
    "import datetime\n",
    "doc = nlp(\"A sentence about machine learning.\")\n",
    "\n",
    "start_time = datetime.datetime.now()\n",
    "print(find_synonym(doc[3:5].text,nlp))\n",
    "end_time = datetime.datetime.now()    \n",
    "\n",
    "interval = (end_time-start_time).seconds   "
   ]
  },
  {
   "cell_type": "code",
   "execution_count": 8,
   "metadata": {},
   "outputs": [
    {
     "name": "stdout",
     "output_type": "stream",
     "text": [
      "It takes\t 4 seconds\n"
     ]
    }
   ],
   "source": [
    "print (\"It takes\\t\", interval, \"seconds\")"
   ]
  },
  {
   "cell_type": "code",
   "execution_count": 9,
   "metadata": {},
   "outputs": [],
   "source": [
    "with open('../data/G06T0003000000.txt', encoding = 'utf-8') as f:\n",
    "    patents = f.read().split('\\n\\n\\n')"
   ]
  },
  {
   "cell_type": "code",
   "execution_count": 11,
   "metadata": {},
   "outputs": [
    {
     "name": "stdout",
     "output_type": "stream",
     "text": [
      "['METHOD', 'CLAIM', 'METHODS', 'oF', 'Of', 'of', 'MEANS', 'DETERMING', 'APPARATUS', 'PARTICULAR']\n",
      "[(('JOURNAL', 'NOUN'), 0.7448), (('TRANSACTION', 'NOUN'), 0.7391), (('INTERNAL', 'NOUN'), 0.737), (('CIRCUIT', 'NOUN'), 0.737), (('SUCCESS', 'NOUN'), 0.7332), (('SECTION', 'NOUN'), 0.7303), (('PANEL', 'NOUN'), 0.7296), (('FALSE', 'ADJ'), 0.7291), (('FILES', 'NOUN'), 0.7289), (('2ND', 'NOUN'), 0.7281)]\n",
      "[(('images', 'NOUN'), 0.7981), (('actual image', 'NOUN'), 0.7964), (('other image', 'NOUN'), 0.77), (('original image', 'NOUN'), 0.7657), (('full image', 'NOUN'), 0.757), (('just the image', 'NOUN'), 0.7519), (('source image', 'NOUN'), 0.7441), (('specific image', 'NOUN'), 0.7431), (('entire image', 'NOUN'), 0.7429), (('just an image', 'NOUN'), 0.7311)]\n",
      "['MICROPROCESSOR', 'SUB-UNIT', 'unit', 'Multiprocessors', 'pre-processing', 'Sub-Units', 'MICROCONTROLLER', 'DEVICE', 'chip', 'MICROCHIP']\n",
      "['ENVIROMENT', 'management', 'MANGEMENT', 'ENLARGE', 'image', 'ENVIRONMENTS', 'development', 'DEVELOPEMENT', 'PROCESSES', 'dinamic']\n",
      "['location', 'LOCATION', '.', 'HOTSPOTS', 'place', 'PLACE', 'AREA', 'area', 'where', 'Where']\n",
      "[(('feature', 'VERB'), 0.8424), (('main feature', 'NOUN'), 0.7904), (('featuring', 'VERB'), 0.7679), (('featured', 'VERB'), 0.7332), (('features', 'NOUN'), 0.722), (('main features', 'NOUN'), 0.7218), (('incorporates', 'VERB'), 0.7194), (('featured', 'ADJ'), 0.7185), (('prominently', 'ADV'), 0.7074), (('Alongside', 'ADP'), 0.7022)]\n",
      "[(('grid', 'NOUN'), 0.8388), (('grids', 'NOUN'), 0.7997), (('grid', 'ADJ'), 0.7848), (('offset tool', 'NOUN'), 0.718), (('new grid', 'NOUN'), 0.7044), (('same grid', 'NOUN'), 0.6846), (('map', 'VERB'), 0.6846), (('layout', 'NOUN'), 0.6838), (('separate layer', 'NOUN'), 0.6827), (('conveyors', 'NOUN'), 0.68)]\n",
      "[(('image', 'NOUN'), 0.7981), (('other images', 'NOUN'), 0.7967), (('only images', 'NOUN'), 0.7915), (('just images', 'NOUN'), 0.7858), (('actual images', 'NOUN'), 0.7693), (('such images', 'NOUN'), 0.7609), (('many images', 'NOUN'), 0.7583), (('pictures', 'NOUN'), 0.7543), (('specific image', 'NOUN'), 0.7469), (('multiple images', 'NOUN'), 0.7468)]\n",
      "['pre-processing', 'data', 'DATASET', 'SYTEM', 'system', 'systems', 'SYTEMS', 'PROCESSES', 'proces', 'TELEMETRY']\n",
      "[(('wiring diagram', 'NOUN'), 0.87), (('service manual', 'NOUN'), 0.8128), (('part numbers', 'NOUN'), 0.809), (('repair manual', 'NOUN'), 0.7883), (('datasheets', 'NOUN'), 0.7725), (('user manual', 'NOUN'), 0.7637), (('part number', 'NOUN'), 0.7635), (('wiring harness', 'NOUN'), 0.762), (('wiring', 'NOUN'), 0.7594), (('pinouts', 'NOUN'), 0.7592)]\n",
      "[(('guidelines', 'NOUN'), 0.7433), (('sub](http://www.reddit.com/r/redditgetsdrawn/wiki/index', 'NOUN'), 0.6721), (('page](/r/NASCAR/wiki/rules', 'NOUN'), 0.6552), (('rules](http://www.reddit.com/r/redditgetsdrawn/wiki/index', 'NOUN'), 0.6346), (('/r/hardware', 'SYM'), 0.6263), (('/r/IAmA sidebar', 'NOUN'), 0.6258), (('FAQ](http://www.reddit.com/r/dataisbeautiful/wiki/index#wiki reposts', 'NOUN'), 0.6249), (('link](https://www.reddit.com/r/longboarding/wiki/rules', 'NOUN'), 0.6151), (('guidelines](http://www.reddit.com/r/javascript/wiki/index', 'NOUN'), 0.6123), (('here](/r/pokemontrades/wiki/index/', 'NOUN'), 0.6064)]\n",
      "[(('specific image', 'NOUN'), 0.8342), (('original photo', 'NOUN'), 0.8087), (('particular photo', 'NOUN'), 0.8027), (('other images', 'NOUN'), 0.7999), (('particular picture', 'NOUN'), 0.7988), (('actual image', 'NOUN'), 0.7983), (('original picture', 'NOUN'), 0.7902), (('actual photo', 'NOUN'), 0.7883), (('specific picture', 'NOUN'), 0.7802), (('actual picture', 'NOUN'), 0.7793)]\n",
      "[(('other object', 'NOUN'), 0.9142), (('objects', 'NOUN'), 0.8607), (('single object', 'NOUN'), 0.8564), (('first object', 'NOUN'), 0.8529), (('actual object', 'NOUN'), 0.8512), (('said object', 'NOUN'), 0.8506), (('target object', 'NOUN'), 0.837), (('other objects', 'NOUN'), 0.8261), (('given object', 'NOUN'), 0.8184), (('second object', 'NOUN'), 0.8174)]\n",
      "['pre-processing', 'system', 'SYTEM', 'data', 'DATASET', 'SYTEMS', 'systems', 'IMPROVED', 'PROCESSES', 'CAPABILITIES']\n",
      "[(('relative distance', 'NOUN'), 0.7779), (('relative position', 'NOUN'), 0.761), (('exact location', 'NOUN'), 0.7591), (('approximate location', 'NOUN'), 0.755), (('actual location', 'NOUN'), 0.7468), (('relative positions', 'NOUN'), 0.7414), (('co-ordinates', 'NOUN'), 0.7323), (('coordinates', 'NOUN'), 0.7319), (('given location', 'NOUN'), 0.7185), (('given spot', 'NOUN'), 0.7167)]\n",
      "[(('activating', 'VERB'), 0.8546), (('activated', 'VERB'), 0.8529), (('activate', 'VERB'), 0.8482), (('Activating', 'VERB'), 0.8317), (('activates', 'VERB'), 0.8126), (('activations', 'NOUN'), 0.8054), (('activate', 'ADJ'), 0.7861), (('activate', 'NOUN'), 0.7836), (('active', 'VERB'), 0.7743), (('Activation', 'NOUN'), 0.7541)]\n",
      "['Full-Color', 'information', 'Informaton', 'PRINT', 'TYPESETTING', 'detailled', 'MEMORANDA', 'DETAILS', 'details', 'PAGE']\n",
      "[(('data structure', 'NOUN'), 0.7812), (('binary data', 'NOUN'), 0.7692), (('executable code', 'NOUN'), 0.764), (('memory addresses', 'NOUN'), 0.7507), (('computer memory', 'NOUN'), 0.7471), (('computer program', 'NOUN'), 0.7415), (('memory address', 'NOUN'), 0.737), (('computations', 'NOUN'), 0.733), (('input data', 'NOUN'), 0.732), (('arbitrary data', 'NOUN'), 0.7308)]\n",
      "[(('conjuction', 'NOUN'), 0.8697), (('addition', 'NOUN'), 0.7863), (('tandem', 'NOUN'), 0.7666), (('combination', 'NOUN'), 0.7542), (('Utilizing', 'VERB'), 0.7532), (('good effect', 'NOUN'), 0.7526), (('couple', 'VERB'), 0.7513), (('use', 'NOUN'), 0.7452), (('combining', 'VERB'), 0.7297), (('most common use', 'NOUN'), 0.7286)]\n",
      "['level', 'LEVEL', 'GREATER', 'greater', 'of', 'Of', 'oF', 'LEVELS', 'Long-Term', 'HIGHER']\n",
      "[(('particular method', 'NOUN'), 0.8683), (('different method', 'NOUN'), 0.8621), (('specific method', 'NOUN'), 0.8488), (('methods', 'NOUN'), 0.8482), (('other method', 'NOUN'), 0.8472), (('second method', 'NOUN'), 0.8419), (('other methods', 'NOUN'), 0.8312), (('multiple methods', 'NOUN'), 0.8286), (('first method', 'NOUN'), 0.8286), (('better method', 'NOUN'), 0.8154)]\n",
      "[(('mainstream media', 'NOUN'), 0.8559), (('mass media', 'NOUN'), 0.835), (('news media', 'NOUN'), 0.8344), (('media outlets', 'NOUN'), 0.8233), (('main stream media', 'NOUN'), 0.8177), (('Media', 'ORG'), 0.8046), (('media outlet', 'NOUN'), 0.8042), (('MSM', 'ORG'), 0.7968), (('public media', 'NOUN'), 0.7919), (('most media', 'NOUN'), 0.7891)]\n",
      "['COLOR', 'color', 'COLORS', 'MONOCHROME', 'hightlight', 'colourways', 'Look', 'look', 'LOOK', '.']\n",
      "['50-Page', 'MEMORANDA', '.', 'documention', 'file', 'FileName', 'text', 'TEXT', 'copy', 'PHOTOCOPY']\n",
      "[((' time', 'NOUN'), 0.8527), (('time time', 'NOUN'), 0.8514), (('time-', 'NOUN'), 0.8453), (('day', 'NOUN'), 0.7829), (('enough time', 'NOUN'), 0.7815), (('every', 'DET'), 0.7682), (('before', 'ADP'), 0.7677), (('once', 'ADV'), 0.7601), (('whole', 'ADJ'), 0.7574), (('first', 'ORDINAL'), 0.7512)]\n",
      "[(('meta data', 'NOUN'), 0.9508), (('meta-data', 'NOUN'), 0.9035), (('metadata', 'VERB'), 0.8507), (('other metadata', 'NOUN'), 0.8334), (('database', 'NOUN'), 0.8302), (('Metadata', 'PERSON'), 0.8245), (('metadata', 'ADJ'), 0.8163), (('other data', 'NOUN'), 0.8143), (('local copy', 'NOUN'), 0.8131), (('data', 'NOUN'), 0.8085)]\n",
      "['storage', 'safe-keeping', 'Defragmenter', 'Diskettes', 'computer-related', 'computer', 'meduim', 'medium', 'DISCs', 'computer-readable']\n",
      "[(('same information', 'NOUN'), 0.8311), (('different sources', 'NOUN'), 0.7788), (('different info', 'NOUN'), 0.7531), (('same info', 'NOUN'), 0.7472), (('similar information', 'NOUN'), 0.7422), (('different data', 'NOUN'), 0.7401), (('other information', 'NOUN'), 0.7369), (('exact same information', 'NOUN'), 0.7191), (('new information', 'NOUN'), 0.7133), (('same data', 'NOUN'), 0.713)]\n",
      "['30', '.', '25', '20', '15', '28', '31', '24', '26', '27']\n",
      "['proces', 'management', 'MANGEMENT', 'PROCESSES', 'image', 'ENLARGE', 'pre-processing', 'system', 'SYTEM', 'APPROACH']\n",
      "['METHOD', 'Sevice', 'service', 'METHODS', 'services', 'SEVICES', 'proces', 'provid', 'SYTEM', 'system']\n",
      "['form', 'FORM', '.', 'FORMS', 'As', 'aS', 'as', 'WHich', 'which', 'well']\n",
      "[(('electronic format', 'NOUN'), 0.7852), (('electronic copies', 'NOUN'), 0.7667), (('paper copy', 'NOUN'), 0.7618), (('other documents', 'NOUN'), 0.7562), (('paper copies', 'NOUN'), 0.7552), (('paper form', 'NOUN'), 0.7485), (('electronic copy', 'NOUN'), 0.7474), (('documents', 'NOUN'), 0.7428), (('electronic documents', 'NOUN'), 0.7407), (('electronic record', 'NOUN'), 0.7407)]\n"
     ]
    },
    {
     "name": "stdout",
     "output_type": "stream",
     "text": [
      "[(('specific information', 'NOUN'), 0.8361), (('other information', 'NOUN'), 0.8307), (('detailed information', 'NOUN'), 0.8288), (('much information', 'NOUN'), 0.8234), (('pertinent information', 'NOUN'), 0.823), (('basic information', 'NOUN'), 0.815), (('such information', 'NOUN'), 0.8126), (('valuable information', 'NOUN'), 0.8124), (('important information', 'NOUN'), 0.81), ((' information', 'NOUN'), 0.7978)]\n",
      "['Airlifter', 'MAINTENANCE', 'non-operational', 'information', 'Informaton', 'EQUIPEMENT', 'OPERATIONS', 'Necesary', 'SEVICES', 'services']\n",
      "[(('assembly', 'ADV'), 0.8344), (('assemblies', 'NOUN'), 0.8071), (('tooling', 'NOUN'), 0.7097), (('assembler', 'NOUN'), 0.7066), (('Assembly', 'ORG'), 0.6887), (('disassembly', 'NOUN'), 0.6778), (('assemble', 'VERB'), 0.6703), (('basic code', 'NOUN'), 0.6557), (('instruction', 'NOUN'), 0.6557), (('critical sections', 'NOUN'), 0.6552)]\n",
      "['RETRIEVED', '.', 'computer-readable', 'CONTENTS', 'storage', 'safe-keeping', 'data', 'DATASET', 'files', 'FILES']\n",
      "[(('BATHTUB', 'NOUN'), 0.881), (('THIRD', 'NOUN'), 0.8706), (('THE', 'DET'), 0.8696), (('OF', 'ADP'), 0.8693), (('CORNER', 'NOUN'), 0.8677), (('MACHINE', 'NOUN'), 0.8653), (('BASEMENT', 'NOUN'), 0.8639), (('LIVING', 'NOUN'), 0.8633), (('PUTTING', 'NOUN'), 0.863), (('MUSIC', 'NOUN'), 0.8624)]\n",
      "[(('identifiers', 'NOUN'), 0.7953), (('user ID', 'NOUN'), 0.7748), (('unique identifier', 'NOUN'), 0.7612), (('unique id', 'NOUN'), 0.755), (('UID', 'NOUN'), 0.7497), (('prepended', 'VERB'), 0.7375), (('userid', 'ADJ'), 0.7353), (('primary key', 'NOUN'), 0.7335), (('unique ID', 'NOUN'), 0.7261), (('prefix', 'NOUN'), 0.7258)]\n",
      "[(('user inputs', 'NOUN'), 0.8655), (('input data', 'NOUN'), 0.8647), (('parameter', 'NOUN'), 0.8564), (('global variables', 'NOUN'), 0.8501), (('asynchronously', 'ADV'), 0.8497), (('event loop', 'NOUN'), 0.8434), (('function call', 'NOUN'), 0.8419), (('input validation', 'NOUN'), 0.8402), (('programmatically', 'ADV'), 0.8382), (('debugger', 'NOUN'), 0.8368)]\n",
      "['PLURALITY', 'hi-res', 'images', 'image', 'ENLARGE', 'CORRESPONDS', 'SHOWN', 'APPARATUS', 'DEPICT', 'RASTER']\n",
      "['number', 'NUMBER', 'SUB-ASSEMBLIES', 'oF', 'of', 'Of', 'different', 'DIFFERENT', 'subcomponent', 'VARIOUS']\n",
      "[(('new application', 'NOUN'), 0.8427), (('applications', 'NOUN'), 0.8348), (('actual application', 'NOUN'), 0.789), (('single application', 'NOUN'), 0.7859), (('program', 'NOUN'), 0.7767), (('entire application', 'NOUN'), 0.755), (('full application', 'NOUN'), 0.7517), (('Most applications', 'NOUN'), 0.75), (('own application', 'NOUN'), 0.7499), (('separate application', 'NOUN'), 0.7423)]\n",
      "[(('PAST', 'NOUN'), 0.8106), (('EXPERIENCE', 'VERB'), 0.8024), (('PROGRAM', 'NOUN'), 0.8016), (('INFORMATION', 'NOUN'), 0.799), (('EXPERIENCE', 'NOUN'), 0.7956), (('EXPLAINING', 'NOUN'), 0.7913), (('SITES', 'NOUN'), 0.7905), (('KNOWLEDGE', 'NOUN'), 0.7899), (('COVER', 'NOUN'), 0.7868), (('ILL', 'VERB'), 0.784)]\n",
      "[(('wiring diagrams', 'NOUN'), 0.87), (('service manual', 'NOUN'), 0.8327), (('pinout', 'NOUN'), 0.8086), (('datasheet', 'NOUN'), 0.8068), (('circuit diagram', 'NOUN'), 0.8039), (('part number', 'NOUN'), 0.8006), (('wiring harness', 'NOUN'), 0.7937), (('multimeter', 'NOUN'), 0.7897), (('voltmeter', 'NOUN'), 0.7885), (('volt meter', 'NOUN'), 0.7801)]\n",
      "[(('TV/monitor', 'NOUN'), 0.7816), (('video signal', 'NOUN'), 0.781), (('PC monitor', 'NOUN'), 0.7668), (('display controller', 'NOUN'), 0.7632), (('progressive scan', 'NOUN'), 0.7485), (('HDMI output', 'NOUN'), 0.7449), (('output device', 'NOUN'), 0.7445), (('video output', 'NOUN'), 0.7435), (('HDMI connection', 'NOUN'), 0.7386), (('PC monitors', 'NOUN'), 0.7375)]\n",
      "['LEVEL', 'level', 'DETAIL', 'of', 'oF', 'Of', 'LEVELS', 'ABOVE', 'above', 'the']\n",
      "['PHOTOCOPY', 'copy', '.', 'PHOTOCOPIES', 'Recopied', 'file', 'FileName', 'read', 'Read', 'REad']\n",
      "[(('maintenence', 'NOUN'), 0.9314), (('maintainance', 'NOUN'), 0.9014), (('maintainence', 'NOUN'), 0.9004), (('maintence', 'NOUN'), 0.8485), (('maintanance', 'NOUN'), 0.8364), (('maintance', 'NOUN'), 0.836), (('general maintenance', 'NOUN'), 0.832), (('maintanence', 'NOUN'), 0.8309), (('repairs', 'NOUN'), 0.827), (('maintaince', 'NOUN'), 0.825)]\n",
      "[(('Library', 'ORG'), 0.7979), (('library', 'VERB'), 0.7944), (('library', 'ADJ'), 0.7887), (('public library', 'NOUN'), 0.7742), (('university library', 'NOUN'), 0.7629), (('main library', 'NOUN'), 0.7576), (('own library', 'NOUN'), 0.7521), (('actual library', 'NOUN'), 0.7521), (('school library', 'NOUN'), 0.7477), (('whole library', 'NOUN'), 0.737)]\n",
      "['PAPYRI', 'Informaton', 'information', 'TEXT', 'text', 'Country-Specific', 'relevant', 'SYNOPSES', 'MEMORANDA', 'REFERENCES']\n",
      "['NOVELLA', 'FEATURES', 'FEATURE', 'BESTSELLERS', 'story', 'STORY', 'ADAPTION', 'INTRIGUING', 'one-of-a-kind', 'RAGS-TO-RICHES']\n",
      "[(('original document', 'NOUN'), 0.8958), (('documents', 'NOUN'), 0.8754), (('other documents', 'NOUN'), 0.8546), (('single document', 'NOUN'), 0.8388), (('other document', 'NOUN'), 0.8352), (('entire document', 'NOUN'), 0.8271), (('actual document', 'NOUN'), 0.807), (('same document', 'NOUN'), 0.8042), (('relevant documents', 'NOUN'), 0.7998), (('documentation', 'NOUN'), 0.7981)]\n",
      "['THUS', 'thus', 'PLURALITY', 'PARTICULAR', 'OnE', 'one', 'One', 'another', 'Another', 'ANother']\n",
      "[(('entire process', 'NOUN'), 0.885), (('whole process', 'NOUN'), 0.8628), (('actual process', 'NOUN'), 0.8274), (('overall process', 'NOUN'), 0.7881), (('long process', 'NOUN'), 0.7845), (('just the process', 'NOUN'), 0.7831), (('final step', 'NOUN'), 0.7764), (('proccess', 'NOUN'), 0.7761), (('just a process', 'NOUN'), 0.7737), (('many steps', 'NOUN'), 0.773)]\n",
      "[(('apparatuses', 'NOUN'), 0.7179), (('mechanical means', 'NOUN'), 0.7074), (('mechanism', 'NOUN'), 0.7032), (('machinery', 'NOUN'), 0.6972), (('contraption', 'NOUN'), 0.6738), (('centrifuge', 'NOUN'), 0.6691), (('operation', 'NOUN'), 0.6656), (('mechanical device', 'NOUN'), 0.6614), (('autonomously', 'ADV'), 0.6581), (('primary function', 'NOUN'), 0.6554)]\n",
      "['TYPES', 'SUITABLE', 'speciﬁc', '50-Page', 'APPROPRIATE', 'PARTICULAR', 'type', 'TyPe', 'different', 'DIFFERENT']\n",
      "[(('actual content', 'NOUN'), 0.8583), (('only content', 'NOUN'), 0.8399), (('unique content', 'NOUN'), 0.8368), (('relevant content', 'NOUN'), 0.8204), (('said content', 'NOUN'), 0.8162), (('interesting content', 'NOUN'), 0.8099), (('real content', 'NOUN'), 0.8091), (('other content', 'NOUN'), 0.8055), (('main content', 'NOUN'), 0.804), (('meaningful content', 'NOUN'), 0.8016)]\n",
      "[(('first request', 'NOUN'), 0.7761), (('specific request', 'NOUN'), 0.7484), (('requested info', 'NOUN'), 0.7298), (('multiple requests', 'NOUN'), 0.7255), (('original request', 'NOUN'), 0.7247), (('other request', 'NOUN'), 0.7191), (('previous request', 'NOUN'), 0.7176), (('requested', 'VERB'), 0.7149), (('direct message', 'NOUN'), 0.6955), (('requestor', 'NOUN'), 0.6922)]\n",
      "['USe', 'use', 'Use', 'PREFERRED', 'mode', 'MODE', 'SAme', 'same', 'Same', 'EIther']\n",
      "[(('physical locations', 'NOUN'), 0.7812), (('actual location', 'NOUN'), 0.7787), (('location', 'NOUN'), 0.7673), (('current location', 'NOUN'), 0.7523), (('particular location', 'NOUN'), 0.749), (('own location', 'NOUN'), 0.7381), (('specific location', 'NOUN'), 0.7374), (('physical address', 'NOUN'), 0.7372), (('specific address', 'NOUN'), 0.7318), (('home location', 'NOUN'), 0.7263)]\n",
      "[(('general location', 'NOUN'), 0.8215), (('specific location', 'NOUN'), 0.8151), (('actual location', 'NOUN'), 0.8105), (('exact location', 'NOUN'), 0.7993), (('current location', 'NOUN'), 0.7927), (('physical location', 'NOUN'), 0.7673), (('locations', 'NOUN'), 0.7628), (('particular location', 'NOUN'), 0.7598), (('approximate location', 'NOUN'), 0.7548), (('other location', 'NOUN'), 0.7537)]\n",
      "['applicaiton', 'Codification', 'PRIORITY', 'legal', 'non-legal', 'uspto', 'authority', 'DELEGATED', 'Then-Current', 'Necesary']\n",
      "[(('other objectives', 'NOUN'), 0.9349), (('map objectives', 'NOUN'), 0.9125), (('map control', 'NOUN'), 0.8715), (('objective', 'NOUN'), 0.8609), (('more objectives', 'NOUN'), 0.8532), (('merc camps', 'NOUN'), 0.8514), (('certain objectives', 'NOUN'), 0.8453), (('objectives', 'VERB'), 0.8385), (('important objectives', 'NOUN'), 0.8357), (('map objective', 'NOUN'), 0.8351)]\n",
      "['REWIRED', 'SYTEM', 'system', 'SYTEMS', 'systems', 'Non-Electrical', 'INSTALLATIONS', 'POWERLINES', 'Controll', 'control']\n"
     ]
    },
    {
     "name": "stdout",
     "output_type": "stream",
     "text": [
      "[(('referencing', 'VERB'), 0.8334), (('refrence', 'NOUN'), 0.8184), (('only reference', 'NOUN'), 0.7852), (('just a reference', 'NOUN'), 0.7835), (('specific reference', 'NOUN'), 0.7649), (('original reference', 'NOUN'), 0.7614), (('direct reference', 'NOUN'), 0.7477), (('Referencing', 'VERB'), 0.7465), (('references', 'VERB'), 0.7448), (('refference', 'NOUN'), 0.7434)]\n",
      "['system', 'SYTEM', 'REWIRED', 'systems', 'SYTEMS', 'Entire', 'entire', 'Non-Electrical', 'INSTALLATIONS', 'control']\n",
      "['YET', 'yet', 'ANother', 'Another', 'another', 'One', 'OnE', 'one', 'but', 'But']\n",
      "[(('datasheet', 'NOUN'), 0.7581), (('circuit diagram', 'NOUN'), 0.7097), (('pinout', 'NOUN'), 0.7019), (('diagram', 'NOUN'), 0.7017), (('wiring diagram', 'NOUN'), 0.6951), (('data sheet', 'NOUN'), 0.694), (('microcontroller', 'NOUN'), 0.686), (('motherboard manual', 'NOUN'), 0.6844), (('teensy', 'NOUN'), 0.6803), (('datasheets', 'NOUN'), 0.6762)]\n",
      "[(('threshhold', 'NOUN'), 0.918), (('certain threshold', 'NOUN'), 0.8742), (('minimum threshold', 'NOUN'), 0.8156), (('thresholds', 'NOUN'), 0.7995), (('limit', 'NOUN'), 0.7762), (('certain limit', 'NOUN'), 0.7741), (('specific threshold', 'NOUN'), 0.7708), (('treshold', 'NOUN'), 0.7705), (('lower limit', 'NOUN'), 0.7616), (('set threshold', 'NOUN'), 0.7589)]\n",
      "['computer-related', 'computer', 'Progam', 'program', 'Progams', 'softare', 'software', 'PRODUCT', 'computers', 'MINICOMPUTERS']\n",
      "[(('displays', 'NOUN'), 0.911), (('monitor', 'NOUN'), 0.7918), (('monitors', 'NOUN'), 0.7671), (('main display', 'NOUN'), 0.7641), (('screen', 'NOUN'), 0.7613), (('display', 'VERB'), 0.7589), (('other displays', 'NOUN'), 0.7526), (('large screen', 'NOUN'), 0.7501), (('computer monitor', 'NOUN'), 0.749), (('displaying', 'VERB'), 0.7423)]\n",
      "[(('hard disk', 'NOUN'), 0.9099), (('hard drive', 'NOUN'), 0.8834), (('external drive', 'NOUN'), 0.8697), (('USB drive', 'NOUN'), 0.8654), (('internal hard drive', 'NOUN'), 0.865), (('USB key', 'NOUN'), 0.8604), (('USB stick', 'NOUN'), 0.8578), (('harddrive', 'NOUN'), 0.8577), (('hard-drive', 'NOUN'), 0.8567), (('internal HD', 'NOUN'), 0.855)]\n",
      "[(('where', 'ADV'), 0.825), ((' place', 'NOUN'), 0.7964), (('someplace', 'NOUN'), 0.7648), (('other place', 'NOUN'), 0.7636), (('perfect place', 'NOUN'), 0.7633), (('places', 'NOUN'), 0.7611), (('in', 'ADP'), 0.7558), (('few places', 'NOUN'), 0.7509), (('place-', 'NOUN'), 0.7482), (('single place', 'NOUN'), 0.7478)]\n",
      "['2D', '23D', '3D', 'Anaglyph', 'HAND-DRAWN', 'FLOORING', 'MOSAICS', 'SKETCHING', 'Wallpapering', 'paint']\n",
      "['APPARATUS', 'CLAIM', 'PRESENT', 'PLURALITY', 'PERTAINS', 'DESCRIBED', 'of', 'oF', 'Of', 'PARTICULAR']\n",
      "[(('Copy', 'VERB'), 0.8606), (('copied', 'VERB'), 0.8526), (('paste', 'VERB'), 0.8429), (('copying', 'VERB'), 0.8389), (('copy+paste', 'VERB'), 0.8031), (('copy', 'ADJ'), 0.8009), (('clipboard', 'VERB'), 0.7945), (('cut/paste', 'VERB'), 0.7851), (('pasted', 'VERB'), 0.7775), (('.txt file', 'NOUN'), 0.7755)]\n",
      "['32', '.', '33', '34', '36', '38', '37', '42', '48', '44']\n",
      "['DIAGRAMS', 'engineering', 'Electrical/Electronics', 'Electro-Mechanical', 'Non-Electrical', 'engineer', 'SURVEYOR', 'Post-Sales', 'SUB-ASSEMBLIES', 'TOOLMAKERS']\n"
     ]
    }
   ],
   "source": [
    "from tqdm import tqdm\n",
    "doc_ner = ner(patents[0])\n",
    "ents = set([ent.text for ent in doc_ner.ents])\n",
    "\n",
    "for ent in ents:\n",
    "    print(find_synonym(ent, n=10, nlp=nlp))"
   ]
  },
  {
   "cell_type": "code",
   "execution_count": null,
   "metadata": {},
   "outputs": [],
   "source": []
  },
  {
   "cell_type": "code",
   "execution_count": null,
   "metadata": {},
   "outputs": [],
   "source": []
  }
 ],
 "metadata": {
  "kernelspec": {
   "display_name": "Python 3.7.4 64-bit ('base')",
   "language": "python",
   "name": "python37464bitbase5e3e771f486c4f06aa164a453e60de03"
  },
  "language_info": {
   "codemirror_mode": {
    "name": "ipython",
    "version": 3
   },
   "file_extension": ".py",
   "mimetype": "text/x-python",
   "name": "python",
   "nbconvert_exporter": "python",
   "pygments_lexer": "ipython3",
   "version": "3.7.4"
  },
  "toc": {
   "base_numbering": 1,
   "nav_menu": {},
   "number_sections": true,
   "sideBar": true,
   "skip_h1_title": false,
   "title_cell": "Table of Contents",
   "title_sidebar": "Contents",
   "toc_cell": true,
   "toc_position": {},
   "toc_section_display": true,
   "toc_window_display": false
  }
 },
 "nbformat": 4,
 "nbformat_minor": 2
}
